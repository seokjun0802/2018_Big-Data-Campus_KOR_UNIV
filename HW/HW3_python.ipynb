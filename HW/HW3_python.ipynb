{
 "cells": [
  {
   "cell_type": "markdown",
   "metadata": {},
   "source": [
    "### Exercis 82"
   ]
  },
  {
   "cell_type": "code",
   "execution_count": 169,
   "metadata": {
    "collapsed": true
   },
   "outputs": [],
   "source": [
    "def fare(distance):\n",
    "    base = 4.00\n",
    "    plus = (distance * 1000) / 140 * 0.25\n",
    "    print(base + plus)"
   ]
  },
  {
   "cell_type": "code",
   "execution_count": 170,
   "metadata": {},
   "outputs": [
    {
     "name": "stdout",
     "output_type": "stream",
     "text": [
      "361.14285714285717\n"
     ]
    }
   ],
   "source": [
    "fare(200)"
   ]
  },
  {
   "cell_type": "markdown",
   "metadata": {},
   "source": [
    "### Exercie 84"
   ]
  },
  {
   "cell_type": "code",
   "execution_count": 171,
   "metadata": {
    "scrolled": true
   },
   "outputs": [],
   "source": [
    "def median(a,b,c):\n",
    "    lst=sorted([a,b,c])[1]\n",
    "    return lst"
   ]
  },
  {
   "cell_type": "code",
   "execution_count": 172,
   "metadata": {},
   "outputs": [
    {
     "data": {
      "text/plain": [
       "2"
      ]
     },
     "execution_count": 172,
     "metadata": {},
     "output_type": "execute_result"
    }
   ],
   "source": [
    "median(1,2,3)"
   ]
  },
  {
   "cell_type": "markdown",
   "metadata": {},
   "source": [
    "### Exercise 85"
   ]
  },
  {
   "cell_type": "code",
   "execution_count": 209,
   "metadata": {},
   "outputs": [],
   "source": [
    "def convert(number):\n",
    "    result=[\"First\",\"Second\",\"Third\",\"Fourth\",\"Fifth\",\"Sixth\",\"Seventh\",\"Eighth\",\"Ninth\",\n",
    "            \"Tenth\",\"Eleventh\",\"Twelfth\"]\n",
    "    if number == 0:\n",
    "        return \"\"\n",
    "    elif number == 1:\n",
    "        return result[0]\n",
    "    elif number == 2:\n",
    "        return result[1]\n",
    "    elif number == 3:\n",
    "        return result[2]\n",
    "    elif number == 4:\n",
    "        return result[3]\n",
    "    elif number == 5:\n",
    "        return result[4]\n",
    "    elif number == 6:\n",
    "        return result[5]\n",
    "    elif number == 7:\n",
    "        return result[6]\n",
    "    elif number == 8:\n",
    "        return result[7]\n",
    "    elif number == 9:\n",
    "        return result[8]\n",
    "    elif number == 10:\n",
    "        return result[9]\n",
    "    elif number == 11:\n",
    "        return result[10]\n",
    "    elif number == 12:\n",
    "        return result[11]\n",
    "    else:\n",
    "        return ''"
   ]
  },
  {
   "cell_type": "code",
   "execution_count": 210,
   "metadata": {
    "scrolled": true
   },
   "outputs": [
    {
     "data": {
      "text/plain": [
       "'Second'"
      ]
     },
     "execution_count": 210,
     "metadata": {},
     "output_type": "execute_result"
    }
   ],
   "source": [
    "convert(2)"
   ]
  },
  {
   "cell_type": "markdown",
   "metadata": {},
   "source": [
    "### Exercise 86"
   ]
  },
  {
   "cell_type": "code",
   "execution_count": 218,
   "metadata": {},
   "outputs": [],
   "source": [
    "def days(day):\n",
    "    verse=['On the 1st day of Christmas, my true love gave to me a partridge in a pear tree.',\n",
    "\n",
    "'On the 2nd day of Christmas my true love sent to me two turtle doves and a partridge in a pear tree.',\n",
    "\n",
    "'On the 3rd day of Christmas my true love sent to me three French hens, two turtle doves and a partridge in a pear tree.',\n",
    "\n",
    "'On the 4th day of Christmas my true love sent to me four calling birds, three French hens, two turtle doves and a partridge in a pear tree.',\n",
    "\n",
    "'On the 5th day of Christmas my true love sent to me five golden rings, four calling birds, three French hens, two turtle doves and a partridge in a pear tree.',\n",
    "\n",
    "'On the 6th day of Christmas my true love sent to me six geese a-laying, five golden rings, four calling birds, three French hens, two turtle doves and a partridge in a pear tree.',\n",
    "\n",
    "'On the 7th day of Christmas my true love sent to me seven swans a-swimming, six geese a-laying, five golden rings, four calling birds, three French hens, two turtle doves and a partridge in a pear tree.',\n",
    "\n",
    "'On the 8th day of Christmas my true love sent to me eight maids a-milking, seven swans a-swimming, six geese a-laying, five golden rings, four calling birds, three French hens, two turtle doves and a partridge in a pear tree.',\n",
    "\n",
    "'On the 9th day of Christmas my true love sent to me nine ladies dancing, eight maids a-milking, seven swans a-swimming, six geese a-laying, five golden rings, four calling birds, three French hens, two turtle doves and a partridge in a pear tree.',\n",
    "\n",
    "'On the 10th day of Christmas my true love sent to me ten lords a-leaping, nine ladies dancing, eight maids a-milking, seven swans a-swimming, six geese a-laying, five golden rings, four calling birds, three French hens, two turtle doves and a partridge in a pear tree.',\n",
    "\n",
    "'On the 11th day of Christmas my true love sent to me eleven pipers piping, ten lords a-leaping, nine ladies dancing, eight maids a-milking, seven swans a-swimming, six geese a-laying, five golden rings, four calling birds, three French hens, two turtle doves and a partridge in a pear tree.',\n",
    "\n",
    "'On the 12th day of Christmas my true love sent to me twelve drummers drumming, eleven pipers piping, ten lords a-leaping, nine ladies dancing, eight maids a-milking, seven swans a- swimming, six geese a-laying, five golden rings, four calling birds, three French hens, two turtle doves and a partridge in a pear tree.']\n",
    "    if day == 1:\n",
    "        return verse[0]\n",
    "    elif day == 2:\n",
    "        return verse[1]\n",
    "    elif day == 3:\n",
    "        return verse[2]\n",
    "    elif day == 4:\n",
    "        return verse[3]\n",
    "    elif day == 5:\n",
    "        return verse[4]\n",
    "    elif day == 6:\n",
    "        return verse[5]\n",
    "    elif day == 7:\n",
    "        return verse[6]\n",
    "    elif day == 8:\n",
    "        return verse[7]\n",
    "    elif day == 9:\n",
    "        return verse[8]\n",
    "    elif day == 10:\n",
    "        return verse[9]\n",
    "    elif day == 11:\n",
    "        return verse[10]\n",
    "    elif day == 12:\n",
    "        return verse[11]\n",
    "    else:\n",
    "        return ''"
   ]
  },
  {
   "cell_type": "code",
   "execution_count": 222,
   "metadata": {},
   "outputs": [
    {
     "data": {
      "text/plain": [
       "'On the 1st day of Christmas, my true love gave to me a partridge in a pear tree.'"
      ]
     },
     "execution_count": 222,
     "metadata": {},
     "output_type": "execute_result"
    }
   ],
   "source": [
    "days(1)"
   ]
  },
  {
   "cell_type": "markdown",
   "metadata": {},
   "source": [
    "### Exercise 88"
   ]
  },
  {
   "cell_type": "code",
   "execution_count": 175,
   "metadata": {},
   "outputs": [],
   "source": [
    "def triangle(a,b,c):\n",
    "    if a !=b:\n",
    "        return \"False\"\n",
    "    elif a==b and a==c:\n",
    "        return \"True\""
   ]
  },
  {
   "cell_type": "code",
   "execution_count": 176,
   "metadata": {},
   "outputs": [
    {
     "data": {
      "text/plain": [
       "'False'"
      ]
     },
     "execution_count": 176,
     "metadata": {},
     "output_type": "execute_result"
    }
   ],
   "source": [
    "triangle(1,3,2)"
   ]
  },
  {
   "cell_type": "markdown",
   "metadata": {},
   "source": [
    "### Exercise 92"
   ]
  },
  {
   "cell_type": "code",
   "execution_count": 201,
   "metadata": {},
   "outputs": [],
   "source": [
    "def pn(number):\n",
    "    if number > 1:\n",
    "        for i in range(2,number):\n",
    "            if (number % i) == 0:\n",
    "                return 'False'\n",
    "            break\n",
    "        else:\n",
    "            return 'True'"
   ]
  },
  {
   "cell_type": "code",
   "execution_count": 202,
   "metadata": {},
   "outputs": [
    {
     "data": {
      "text/plain": [
       "'True'"
      ]
     },
     "execution_count": 202,
     "metadata": {},
     "output_type": "execute_result"
    }
   ],
   "source": [
    "pn(2)"
   ]
  },
  {
   "cell_type": "code",
   "execution_count": null,
   "metadata": {
    "collapsed": true
   },
   "outputs": [],
   "source": []
  },
  {
   "cell_type": "code",
   "execution_count": null,
   "metadata": {
    "collapsed": true
   },
   "outputs": [],
   "source": []
  }
 ],
 "metadata": {
  "kernelspec": {
   "display_name": "Python 3",
   "language": "python",
   "name": "python3"
  },
  "language_info": {
   "codemirror_mode": {
    "name": "ipython",
    "version": 3
   },
   "file_extension": ".py",
   "mimetype": "text/x-python",
   "name": "python",
   "nbconvert_exporter": "python",
   "pygments_lexer": "ipython3",
   "version": "3.6.3"
  }
 },
 "nbformat": 4,
 "nbformat_minor": 2
}
