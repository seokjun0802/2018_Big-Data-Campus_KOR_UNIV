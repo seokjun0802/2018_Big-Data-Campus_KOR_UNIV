{
 "cells": [
  {
   "cell_type": "markdown",
   "metadata": {},
   "source": [
    "# 비전공자반"
   ]
  },
  {
   "cell_type": "markdown",
   "metadata": {},
   "source": [
    "## 김석준"
   ]
  },
  {
   "cell_type": "markdown",
   "metadata": {},
   "source": [
    "Exercise 61"
   ]
  },
  {
   "cell_type": "code",
   "execution_count": 5,
   "metadata": {
    "collapsed": true
   },
   "outputs": [],
   "source": [
    "import numpy as np"
   ]
  },
  {
   "cell_type": "code",
   "execution_count": 7,
   "metadata": {},
   "outputs": [
    {
     "name": "stdout",
     "output_type": "stream",
     "text": [
      "1\n",
      "2\n",
      "3\n",
      "1\n",
      "2\n",
      "2\n",
      "0\n",
      "error\n"
     ]
    },
    {
     "data": {
      "text/plain": [
       "1.8333333333333333"
      ]
     },
     "execution_count": 7,
     "metadata": {},
     "output_type": "execute_result"
    }
   ],
   "source": [
    "number_list = []\n",
    "\n",
    "while True :\n",
    "    number = int(input())\n",
    "    if number is 0:\n",
    "        print('error')\n",
    "        break\n",
    "    number_list.append(number)\n",
    "np.mean(number_list)"
   ]
  },
  {
   "cell_type": "markdown",
   "metadata": {},
   "source": [
    "Exercise 63"
   ]
  },
  {
   "cell_type": "code",
   "execution_count": 18,
   "metadata": {
    "scrolled": true
   },
   "outputs": [
    {
     "name": "stdout",
     "output_type": "stream",
     "text": [
      "1 \t\t 33.8\n",
      "2 \t\t 35.6\n",
      "3 \t\t 37.4\n",
      "4 \t\t 39.2\n",
      "5 \t\t 41.0\n",
      "6 \t\t 42.8\n",
      "7 \t\t 44.6\n",
      "8 \t\t 46.4\n",
      "9 \t\t 48.2\n",
      "10 \t\t 50.0\n",
      "11 \t\t 51.8\n",
      "12 \t\t 53.6\n",
      "13 \t\t 55.4\n",
      "14 \t\t 57.2\n",
      "15 \t\t 59.0\n",
      "16 \t\t 60.8\n",
      "17 \t\t 62.6\n",
      "18 \t\t 64.4\n",
      "19 \t\t 66.2\n",
      "20 \t\t 68.0\n",
      "21 \t\t 69.8\n",
      "22 \t\t 71.6\n",
      "23 \t\t 73.4\n",
      "24 \t\t 75.2\n",
      "25 \t\t 77.0\n",
      "26 \t\t 78.8\n",
      "27 \t\t 80.6\n",
      "28 \t\t 82.4\n",
      "29 \t\t 84.2\n",
      "30 \t\t 86.0\n",
      "31 \t\t 87.8\n",
      "32 \t\t 89.6\n",
      "33 \t\t 91.4\n",
      "34 \t\t 93.2\n",
      "35 \t\t 95.0\n",
      "36 \t\t 96.8\n",
      "37 \t\t 98.6\n",
      "38 \t\t 100.4\n",
      "39 \t\t 102.2\n",
      "40 \t\t 104.0\n",
      "41 \t\t 105.8\n",
      "42 \t\t 107.6\n",
      "43 \t\t 109.4\n",
      "44 \t\t 111.2\n",
      "45 \t\t 113.0\n",
      "46 \t\t 114.8\n",
      "47 \t\t 116.6\n",
      "48 \t\t 118.4\n",
      "49 \t\t 120.2\n",
      "50 \t\t 122.0\n",
      "51 \t\t 123.8\n",
      "52 \t\t 125.6\n",
      "53 \t\t 127.4\n",
      "54 \t\t 129.2\n",
      "55 \t\t 131.0\n",
      "56 \t\t 132.8\n",
      "57 \t\t 134.6\n",
      "58 \t\t 136.4\n",
      "59 \t\t 138.2\n",
      "60 \t\t 140.0\n",
      "61 \t\t 141.8\n",
      "62 \t\t 143.6\n",
      "63 \t\t 145.4\n",
      "64 \t\t 147.2\n",
      "65 \t\t 149.0\n",
      "66 \t\t 150.8\n",
      "67 \t\t 152.6\n",
      "68 \t\t 154.4\n",
      "69 \t\t 156.2\n",
      "70 \t\t 158.0\n",
      "71 \t\t 159.8\n",
      "72 \t\t 161.6\n",
      "73 \t\t 163.4\n",
      "74 \t\t 165.2\n",
      "75 \t\t 167.0\n",
      "76 \t\t 168.8\n",
      "77 \t\t 170.6\n",
      "78 \t\t 172.4\n",
      "79 \t\t 174.2\n",
      "80 \t\t 176.0\n",
      "81 \t\t 177.8\n",
      "82 \t\t 179.6\n",
      "83 \t\t 181.4\n",
      "84 \t\t 183.2\n",
      "85 \t\t 185.0\n",
      "86 \t\t 186.8\n",
      "87 \t\t 188.6\n",
      "88 \t\t 190.4\n",
      "89 \t\t 192.2\n",
      "90 \t\t 194.0\n",
      "91 \t\t 195.8\n",
      "92 \t\t 197.6\n",
      "93 \t\t 199.4\n",
      "94 \t\t 201.2\n",
      "95 \t\t 203.0\n",
      "96 \t\t 204.8\n",
      "97 \t\t 206.6\n",
      "98 \t\t 208.4\n",
      "99 \t\t 210.2\n",
      "100 \t\t 212.0\n"
     ]
    }
   ],
   "source": [
    "for celsius in range(1, 101):\n",
    "    farenheit = celsius *1.8 + 32\n",
    "    print(celsius, '\\t\\t',format(farenheit, '.1f'))"
   ]
  },
  {
   "cell_type": "markdown",
   "metadata": {},
   "source": [
    "Exercise 66"
   ]
  },
  {
   "cell_type": "code",
   "execution_count": 30,
   "metadata": {},
   "outputs": [
    {
     "name": "stdout",
     "output_type": "stream",
     "text": [
      "A\n",
      "A+\n",
      "B\n",
      "B\n",
      "B\n",
      "B\n",
      "B\n",
      "C\n",
      "C\n",
      "C\n",
      "F\n",
      "\n"
     ]
    },
    {
     "data": {
      "text/plain": [
       "2.6363636363636362"
      ]
     },
     "execution_count": 30,
     "metadata": {},
     "output_type": "execute_result"
    }
   ],
   "source": [
    "average_grade = []\n",
    "\n",
    "while True:\n",
    "    grade = input()\n",
    "    if grade == 'A+':\n",
    "        grade = 4.0\n",
    "    elif grade == 'A':\n",
    "        grade = 4.0\n",
    "    elif grade == 'A-':\n",
    "        grade = 3.7\n",
    "    elif grade == 'B+':\n",
    "        grade =3.3\n",
    "    elif grade == 'B':\n",
    "        grade =3.0\n",
    "    elif grade == 'B-':\n",
    "        grade = 2.7\n",
    "    elif grade == 'C+':\n",
    "        grade =2.3\n",
    "    elif grade == 'C':\n",
    "        grade = 2.0\n",
    "    elif grade == 'C-':\n",
    "        grade = 1.7\n",
    "    elif grade == 'D+':\n",
    "        grade = 1.3\n",
    "    elif grade == 'D':\n",
    "        grade = 1.0\n",
    "    elif grade =='F':\n",
    "        grade = 0\n",
    "    elif grade == '':\n",
    "        break\n",
    "    average_grade.append(grade)\n",
    "    \n",
    "np.average(average_grade)"
   ]
  },
  {
   "cell_type": "markdown",
   "metadata": {},
   "source": [
    "Excercise 67"
   ]
  },
  {
   "cell_type": "code",
   "execution_count": 4,
   "metadata": {
    "scrolled": true
   },
   "outputs": [
    {
     "name": "stdout",
     "output_type": "stream",
     "text": [
      "2\n",
      "4\n",
      "4\n",
      "55\n",
      "5555\n",
      "\n"
     ]
    },
    {
     "data": {
      "text/plain": [
       "69.0"
      ]
     },
     "execution_count": 4,
     "metadata": {},
     "output_type": "execute_result"
    }
   ],
   "source": [
    "import numpy as np\n",
    "charge = []\n",
    "sum=0\n",
    "\n",
    "while True:\n",
    "    age = input()\n",
    "    if age == '': # 공백일때는 문자열이니까 int처리 이전에 실행해주어야함\n",
    "        break\n",
    "    age = int(age)\n",
    "    if age <= 2:\n",
    "        sum = 0.00\n",
    "    elif age <= 12:\n",
    "        sum = 14.00\n",
    "    elif age > 65:\n",
    "        sum = 18.00\n",
    "    else:\n",
    "        sum = 23.00\n",
    "    charge.append(sum)\n",
    "np.sum(charge)"
   ]
  },
  {
   "cell_type": "markdown",
   "metadata": {},
   "source": [
    "Excercise 72"
   ]
  },
  {
   "cell_type": "code",
   "execution_count": 1,
   "metadata": {
    "scrolled": true
   },
   "outputs": [
    {
     "name": "stdout",
     "output_type": "stream",
     "text": [
      "anna\n",
      "\n"
     ]
    },
    {
     "data": {
      "text/plain": [
       "['anna']"
      ]
     },
     "execution_count": 1,
     "metadata": {},
     "output_type": "execute_result"
    }
   ],
   "source": [
    "some_list = []\n",
    "\n",
    "\n",
    "while True:\n",
    "    string = input()\n",
    "    if string == '':\n",
    "        break\n",
    "    elif string in string[::-1]:\n",
    "        some_list.append(string)\n",
    "some_list"
   ]
  },
  {
   "cell_type": "code",
   "execution_count": 2,
   "metadata": {},
   "outputs": [
    {
     "name": "stdout",
     "output_type": "stream",
     "text": [
      "koko\n",
      "\n"
     ]
    },
    {
     "data": {
      "text/plain": [
       "['']"
      ]
     },
     "execution_count": 2,
     "metadata": {},
     "output_type": "execute_result"
    }
   ],
   "source": [
    "some_list = []\n",
    "\n",
    "\n",
    "while True:\n",
    "    string = input()\n",
    "    if string in string[::-1]:\n",
    "        some_list.append(string) \n",
    "    elif string == '': #  elif의 경우에는 앞의 if가 참이 아니면 실행되는 것이기 떄문에 무한 루프가 도는 것이다.\n",
    "        break        # elif -> if\n",
    "\n",
    "some_list"
   ]
  },
  {
   "cell_type": "code",
   "execution_count": null,
   "metadata": {
    "collapsed": true
   },
   "outputs": [],
   "source": []
  }
 ],
 "metadata": {
  "kernelspec": {
   "display_name": "Python 3",
   "language": "python",
   "name": "python3"
  },
  "language_info": {
   "codemirror_mode": {
    "name": "ipython",
    "version": 3
   },
   "file_extension": ".py",
   "mimetype": "text/x-python",
   "name": "python",
   "nbconvert_exporter": "python",
   "pygments_lexer": "ipython3",
   "version": "3.6.3"
  }
 },
 "nbformat": 4,
 "nbformat_minor": 2
}
